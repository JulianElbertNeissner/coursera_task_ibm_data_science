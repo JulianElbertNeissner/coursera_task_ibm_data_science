{
  "nbformat": 4,
  "nbformat_minor": 0,
  "metadata": {
    "colab": {
      "provenance": []
    },
    "kernelspec": {
      "name": "python3",
      "display_name": "Python 3"
    },
    "language_info": {
      "name": "python"
    }
  },
    {
      "cell_type": "markdown",
      "source": [
        "# Data Science Tools and Ecosystem"
      ],
      "metadata": {
        "id": "89GDbFDM2T6y"
      }
    },
    {
      "cell_type": "markdown",
      "source": [
        "In this notebook, Data Science Tools and Ecosystem are summarized."
      ],
      "metadata": {
        "id": "Fwm2eQ5i2YFr"
      }
    },
    {
      "cell_type": "markdown",
      "source": [
        "Some of the popular languages that Data Scientists use are:\n",
        "1. Python\n",
        "2. R\n",
        "3. SQL"
      ],
      "metadata": {
        "id": "WlHveDDR2bqR"
      }
    },
    {
      "cell_type": "markdown",
      "source": [
        "Some of the commonly used libraries used by Data Scientists include:\n",
        "1. pandas\n",
        "2. numpy\n",
        "3. scikit-learn\n",
        "4. pytorch\n",
        "5. nltk"
      ],
      "metadata": {
        "id": "34MvyXnQ2eQT"
      }
    },
    {
      "cell_type": "markdown",
      "source": [
        "|Data science Tools|\n",
        "|------------------|\n",
        "|Jupyter Lab|\n",
        "|Google Colab|\n",
        "|Rstudio|\n"
      ],
      "metadata": {
        "id": "nmS89UPA2iix"
      }
    },
    {
      "cell_type": "markdown",
      "source": [
        "### Below are a few examples of evaluating arithmetic expressions in Python"
      ],
      "metadata": {
        "id": "sX1URrIS2lEB"
      }
    },
    {
      "cell_type": "code",
      "source": [
        "(3*4)+5\n",
        "# This a simple arithmetic expression to mutiply then add integers"
      ],
      "metadata": {
        "colab": {
          "base_uri": "https://localhost:8080/"
        },
        "id": "Nj3V2VCQ2abK",
        "outputId": "6bdcb7d3-2c10-4b9c-8436-9a39cbe62a11"
      },
      "execution_count": 1,
      "outputs": [
        {
          "output_type": "execute_result",
          "data": {
            "text/plain": [
              "17"
            ]
          },
          "metadata": {},
          "execution_count": 1
        }
      ]
    },
    {
      "cell_type": "code",
      "source": [
        "minutes = 200\n",
        "minutes_in_hour = 60\n",
        "\n",
        "hour = minutes/minutes_in_hour\n",
        "print(hour)\n",
        "#This will convert 200 minutes to hours by diving by 60"
      ],
      "metadata": {
        "colab": {
          "base_uri": "https://localhost:8080/"
        },
        "id": "9pefnYcb2nZS",
        "outputId": "ea40fede-400f-47e9-9ab0-9bac2b5b174c"
      },
      "execution_count": 2,
      "outputs": [
        {
          "output_type": "stream",
          "name": "stdout",
          "text": [
            "3.3333333333333335\n"
          ]
        }
      ]
    },
    {
      "cell_type": "markdown",
      "source": [
        "**Objectives:**\n",
        "* Python\n",
        "* R\n",
        "* SQL\n",
        "* C++\n",
        "* Java"
      ],
      "metadata": {
        "id": "qF33_KGh2vPJ"
      }
    },
    {
      "cell_type": "markdown",
      "source": [
        "## Author\n",
        "Julian Elbert-Neißner"
      ],
      "metadata": {
        "id": "j4WMqrze2wZ6"
      }
    }
  ]
}
